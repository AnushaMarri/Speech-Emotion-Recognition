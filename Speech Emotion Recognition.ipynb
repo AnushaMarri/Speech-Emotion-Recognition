{
 "cells": [
  {
   "cell_type": "code",
   "execution_count": 1,
   "metadata": {},
   "outputs": [],
   "source": [
    "import librosa\n",
    "import soundfile\n",
    "import os, glob, pickle\n",
    "import numpy as np\n",
    "from sklearn.model_selection import train_test_split\n",
    "from sklearn.neural_network import MLPClassifier\n",
    "from sklearn.metrics import accuracy_score"
   ]
  },
  {
   "cell_type": "code",
   "execution_count": 4,
   "metadata": {},
   "outputs": [],
   "source": [
    "def extract_feature(file_name, mfcc, chroma, mel):\n",
    "    with soundfile.SoundFile(file_name) as sound_file:\n",
    "        X = sound_file.read(dtype=\"float32\")\n",
    "        sample_rate=sound_file.samplerate\n",
    "        if chroma:\n",
    "            stft=np.abs(librosa.stft(X))\n",
    "        result=np.array([])\n",
    "        if mfcc:\n",
    "            mfccs=np.mean(librosa.feature.mfcc(y=X, sr=sample_rate, n_mfcc=40).T, axis=0)\n",
    "            result=np.hstack((result, mfccs))\n",
    "        if chroma:\n",
    "            chroma=np.mean(librosa.feature.chroma_stft(S=stft, sr=sample_rate).T,axis=0)\n",
    "            result=np.hstack((result, chroma))\n",
    "        if mel:\n",
    "            mel=np.mean(librosa.feature.melspectrogram(X, sr=sample_rate).T,axis=0)\n",
    "            result=np.hstack((result, mel))\n",
    "            return result"
   ]
  },
  {
   "cell_type": "code",
   "execution_count": 5,
   "metadata": {},
   "outputs": [],
   "source": [
    "emotions={\n",
    "  '01':'neutral',\n",
    "  '02':'calm',\n",
    "  '03':'happy',\n",
    "  '04':'sad',\n",
    "  '05':'angry',\n",
    "  '06':'fearful',\n",
    "  '07':'disgust',\n",
    "  '08':'surprised'\n",
    "}\n"
   ]
  },
  {
   "cell_type": "code",
   "execution_count": 6,
   "metadata": {},
   "outputs": [],
   "source": [
    "observed_emotions=['calm', 'happy', 'fearful', 'disgust']"
   ]
  },
  {
   "cell_type": "code",
   "execution_count": 10,
   "metadata": {},
   "outputs": [],
   "source": [
    "def load_data(test_size=0.2):\n",
    "    x,y=[],[]\n",
    "    for file in glob.glob(\"C:\\\\Users\\\\anush\\\\Downloads\\\\speech-emotion-recognition-ravdess-data\\\\Actor_*\\\\*.wav\"):\n",
    "        file_name=os.path.basename(file)\n",
    "        emotion=emotions[file_name.split(\"-\")[2]]\n",
    "        if emotion not in observed_emotions:\n",
    "            continue\n",
    "        feature=extract_feature(file, mfcc=True, chroma=True, mel=True)\n",
    "        x.append(feature)\n",
    "        y.append(emotion)\n",
    "    return train_test_split(np.array(x), y, test_size=test_size, random_state=9)"
   ]
  },
  {
   "cell_type": "code",
   "execution_count": 11,
   "metadata": {},
   "outputs": [],
   "source": [
    "x_train,x_test,y_train,y_test=load_data(test_size=0.25)"
   ]
  },
  {
   "cell_type": "code",
   "execution_count": 12,
   "metadata": {},
   "outputs": [
    {
     "name": "stdout",
     "output_type": "stream",
     "text": [
      "(576, 192)\n"
     ]
    }
   ],
   "source": [
    "print((x_train.shape[0], x_test.shape[0]))"
   ]
  },
  {
   "cell_type": "code",
   "execution_count": 13,
   "metadata": {},
   "outputs": [
    {
     "name": "stdout",
     "output_type": "stream",
     "text": [
      "Features extracted: 180\n"
     ]
    }
   ],
   "source": [
    "print(f'Features extracted: {x_train.shape[1]}')"
   ]
  },
  {
   "cell_type": "code",
   "execution_count": 14,
   "metadata": {},
   "outputs": [],
   "source": [
    "#Intialize MLP Classifier\n",
    "model=MLPClassifier(alpha=0.01, batch_size=256, epsilon=1e-08, hidden_layer_sizes=(300,), learning_rate='adaptive', max_iter=500)"
   ]
  },
  {
   "cell_type": "code",
   "execution_count": 15,
   "metadata": {},
   "outputs": [
    {
     "data": {
      "text/plain": [
       "MLPClassifier(activation='relu', alpha=0.01, batch_size=256, beta_1=0.9,\n",
       "              beta_2=0.999, early_stopping=False, epsilon=1e-08,\n",
       "              hidden_layer_sizes=(300,), learning_rate='adaptive',\n",
       "              learning_rate_init=0.001, max_fun=15000, max_iter=500,\n",
       "              momentum=0.9, n_iter_no_change=10, nesterovs_momentum=True,\n",
       "              power_t=0.5, random_state=None, shuffle=True, solver='adam',\n",
       "              tol=0.0001, validation_fraction=0.1, verbose=False,\n",
       "              warm_start=False)"
      ]
     },
     "execution_count": 15,
     "metadata": {},
     "output_type": "execute_result"
    }
   ],
   "source": [
    "#fit the model\n",
    "model.fit(x_train,y_train)"
   ]
  },
  {
   "cell_type": "code",
   "execution_count": 16,
   "metadata": {},
   "outputs": [],
   "source": [
    "#Predict the test data\n",
    "y_pred=model.predict(x_test)"
   ]
  },
  {
   "cell_type": "code",
   "execution_count": 17,
   "metadata": {},
   "outputs": [
    {
     "data": {
      "text/plain": [
       "array(['happy', 'calm', 'happy', 'happy', 'disgust', 'calm', 'calm',\n",
       "       'disgust', 'calm', 'happy', 'happy', 'calm', 'fearful', 'happy',\n",
       "       'disgust', 'happy', 'calm', 'disgust', 'disgust', 'calm',\n",
       "       'disgust', 'disgust', 'disgust', 'calm', 'happy', 'happy', 'calm',\n",
       "       'happy', 'calm', 'calm', 'happy', 'disgust', 'happy', 'calm',\n",
       "       'happy', 'calm', 'calm', 'fearful', 'calm', 'calm', 'happy',\n",
       "       'calm', 'calm', 'calm', 'happy', 'disgust', 'disgust', 'calm',\n",
       "       'calm', 'happy', 'fearful', 'fearful', 'fearful', 'happy', 'happy',\n",
       "       'fearful', 'calm', 'happy', 'calm', 'calm', 'disgust', 'calm',\n",
       "       'happy', 'calm', 'disgust', 'calm', 'calm', 'calm', 'disgust',\n",
       "       'happy', 'happy', 'fearful', 'fearful', 'fearful', 'fearful',\n",
       "       'disgust', 'fearful', 'happy', 'calm', 'fearful', 'disgust',\n",
       "       'calm', 'fearful', 'calm', 'disgust', 'calm', 'disgust', 'happy',\n",
       "       'happy', 'disgust', 'disgust', 'happy', 'calm', 'happy', 'disgust',\n",
       "       'disgust', 'calm', 'calm', 'happy', 'calm', 'fearful', 'calm',\n",
       "       'disgust', 'fearful', 'disgust', 'calm', 'happy', 'happy', 'happy',\n",
       "       'happy', 'happy', 'calm', 'calm', 'fearful', 'fearful', 'calm',\n",
       "       'calm', 'happy', 'calm', 'fearful', 'calm', 'calm', 'disgust',\n",
       "       'happy', 'fearful', 'calm', 'disgust', 'happy', 'calm', 'calm',\n",
       "       'fearful', 'happy', 'happy', 'disgust', 'disgust', 'disgust',\n",
       "       'fearful', 'calm', 'happy', 'disgust', 'calm', 'calm', 'disgust',\n",
       "       'fearful', 'happy', 'fearful', 'disgust', 'fearful', 'happy',\n",
       "       'calm', 'calm', 'happy', 'happy', 'calm', 'happy', 'calm', 'calm',\n",
       "       'disgust', 'calm', 'disgust', 'disgust', 'happy', 'calm', 'calm',\n",
       "       'calm', 'happy', 'fearful', 'happy', 'calm', 'happy', 'happy',\n",
       "       'fearful', 'disgust', 'disgust', 'happy', 'fearful', 'calm',\n",
       "       'fearful', 'happy', 'happy', 'disgust', 'fearful', 'calm', 'calm',\n",
       "       'calm', 'happy', 'happy', 'fearful', 'happy', 'happy', 'disgust',\n",
       "       'calm'], dtype='<U7')"
      ]
     },
     "execution_count": 17,
     "metadata": {},
     "output_type": "execute_result"
    }
   ],
   "source": [
    "y_pred"
   ]
  },
  {
   "cell_type": "code",
   "execution_count": 19,
   "metadata": {},
   "outputs": [
    {
     "name": "stdout",
     "output_type": "stream",
     "text": [
      "Accuracy: 71.88%\n"
     ]
    }
   ],
   "source": [
    "#Calculate the accuracy\n",
    "accuracy=accuracy_score(y_true=y_test,y_pred=y_pred)\n",
    "print(\"Accuracy: {:.2f}%\".format(accuracy*100))"
   ]
  },
  {
   "cell_type": "code",
   "execution_count": null,
   "metadata": {},
   "outputs": [],
   "source": []
  }
 ],
 "metadata": {
  "kernelspec": {
   "display_name": "Python 3",
   "language": "python",
   "name": "python3"
  },
  "language_info": {
   "codemirror_mode": {
    "name": "ipython",
    "version": 3
   },
   "file_extension": ".py",
   "mimetype": "text/x-python",
   "name": "python",
   "nbconvert_exporter": "python",
   "pygments_lexer": "ipython3",
   "version": "3.7.6"
  }
 },
 "nbformat": 4,
 "nbformat_minor": 4
}
